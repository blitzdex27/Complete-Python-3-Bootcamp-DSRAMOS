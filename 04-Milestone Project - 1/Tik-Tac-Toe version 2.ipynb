{
 "cells": [
  {
   "cell_type": "code",
   "execution_count": 1,
   "metadata": {},
   "outputs": [],
   "source": [
    "# choose piece\n",
    "def choose_piece():\n",
    "    piece = input(\"Please choose a piece: X or O\")\n",
    "    \n",
    "    if piece == 'X' or piece == 'x':\n",
    "        return 'X', 'O'\n",
    "        \n",
    "    else:\n",
    "        return 'O', 'X'"
   ]
  },
  {
   "cell_type": "code",
   "execution_count": 2,
   "metadata": {},
   "outputs": [],
   "source": [
    "# display the board\n",
    "def display_board(board_pieces):\n",
    "    b = board_pieces\n",
    "    \n",
    "    print(f\"{b[7]} {b[8]} {b[9]}\")\n",
    "    print(f\"{b[4]} {b[5]} {b[6]}\")\n",
    "    print(f\"{b[1]} {b[2]} {b[3]}\")"
   ]
  },
  {
   "cell_type": "code",
   "execution_count": 3,
   "metadata": {},
   "outputs": [],
   "source": [
    "# player input\n",
    "def player_input(board, piece):\n",
    "    while True:\n",
    "        piece_loc = int(input(\"Put the piece to: \"))\n",
    "        if isfree(board, piece_loc) is True:\n",
    "            board[piece_loc] = piece\n",
    "            break\n",
    "        else:\n",
    "            print('Invalid location')\n",
    "            pass\n",
    "    \n",
    "    \n",
    "    # check if the block is free\n",
    "    \n",
    "    return board"
   ]
  },
  {
   "cell_type": "code",
   "execution_count": 4,
   "metadata": {},
   "outputs": [],
   "source": [
    "def isfree(board, piece_loc):\n",
    "    unfree_blocks = []\n",
    "    for i, item in enumerate(board):\n",
    "        if item != ' ':\n",
    "            unfree_blocks.append(i)\n",
    "        else:\n",
    "            pass\n",
    "        \n",
    "    if piece_loc in unfree_blocks:\n",
    "        return False\n",
    "    else:\n",
    "        return True"
   ]
  },
  {
   "cell_type": "code",
   "execution_count": 5,
   "metadata": {},
   "outputs": [],
   "source": [
    "def flip():\n",
    "    hot = input('Heads or tails? h or t')\n",
    "    return hot"
   ]
  },
  {
   "cell_type": "code",
   "execution_count": 6,
   "metadata": {},
   "outputs": [],
   "source": [
    "def win_check(board):\n",
    "    winning_combinations = [(1, 2, 3), (1, 5, 9), (1, 4, 7), (2, 5, 8),\n",
    "                            (3, 5, 7), (3, 6, 9), (4, 5, 6), (7, 8, 9)]\n",
    "    i = 0\n",
    "    j = 0\n",
    "    for combi in winning_combinations:\n",
    "\n",
    "        \n",
    "        if i == 3:\n",
    "            return True, 'X'\n",
    "            break\n",
    "        elif j == 3:\n",
    "            return True, 'O'\n",
    "            break\n",
    "        else:\n",
    "            i = 0\n",
    "            j = 0\n",
    "        \n",
    "        for x in range(1,10):\n",
    "            if board[x] == 'X':\n",
    "                for y in combi:\n",
    "                    if x == y:\n",
    "                        i += 1\n",
    "                    else:\n",
    "                        pass\n",
    "                        \n",
    "            elif board[x] == 'O':\n",
    "                for y in combi:\n",
    "                    if x == y:\n",
    "                        j += 1\n",
    "                    else:\n",
    "                        pass\n",
    "\n",
    "            else:\n",
    "                pass\n",
    "    "
   ]
  },
  {
   "cell_type": "code",
   "execution_count": 7,
   "metadata": {},
   "outputs": [],
   "source": [
    "def play_again():\n",
    "    play = input('Do you want to play again? Y or N')\n",
    "    if play == 'Y' or play == 'y':\n",
    "        return True\n",
    "    else:\n",
    "        return False"
   ]
  },
  {
   "cell_type": "code",
   "execution_count": 14,
   "metadata": {},
   "outputs": [
    {
     "name": "stdout",
     "output_type": "stream",
     "text": [
      "O    \n",
      "X O X\n",
      "O X O\n",
      "Player 2 WINS!\n",
      "Do you want to play again? Y or Nn\n"
     ]
    }
   ],
   "source": [
    "from IPython.display import clear_output\n",
    "\n",
    "while True:\n",
    "    board = ['#']+[' ']*9\n",
    "    hot = flip()\n",
    "    if hot == 'h':\n",
    "        p1, p2 = choose_piece()\n",
    "    else:\n",
    "        p2, p1 = choose_piece()\n",
    "\n",
    "    turn = 1\n",
    "    \n",
    "    while True:\n",
    "        clear_output()\n",
    "        if turn % 2 != 0:\n",
    "            piece = p1\n",
    "        else:\n",
    "            piece = p2\n",
    "\n",
    "        display_board(board)\n",
    "        board = player_input(board, piece)\n",
    "        \n",
    "\n",
    "\n",
    "        wincheck = win_check(board)\n",
    "        if wincheck == (True, 'X'):\n",
    "            clear_output()\n",
    "            display_board(board)            \n",
    "            print('Player 1 WINS!')\n",
    "            break\n",
    "        elif wincheck == (True, 'O'):\n",
    "            clear_output()\n",
    "            display_board(board)  \n",
    "            print('Player 2 WINS!')\n",
    "            break\n",
    "        else:\n",
    "            pass\n",
    "    \n",
    "\n",
    "        turn += 1\n",
    "    \n",
    "    again = play_again()\n",
    "    if again is True:\n",
    "        pass\n",
    "    elif again is False:\n",
    "        break\n",
    "    \n",
    "    "
   ]
  },
  {
   "cell_type": "markdown",
   "metadata": {},
   "source": [
    "### 3## 4\n",
    "### "
   ]
  }
 ],
 "metadata": {
  "kernelspec": {
   "display_name": "Python 3",
   "language": "python",
   "name": "python3"
  },
  "language_info": {
   "codemirror_mode": {
    "name": "ipython",
    "version": 3
   },
   "file_extension": ".py",
   "mimetype": "text/x-python",
   "name": "python",
   "nbconvert_exporter": "python",
   "pygments_lexer": "ipython3",
   "version": "3.8.5"
  }
 },
 "nbformat": 4,
 "nbformat_minor": 4
}
